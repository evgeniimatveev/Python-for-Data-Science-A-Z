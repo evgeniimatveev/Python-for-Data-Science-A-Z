{
 "cells": [
  {
   "cell_type": "code",
   "execution_count": 51,
   "id": "7f57bc69-427c-44f5-bbaf-b1fd5763738c",
   "metadata": {},
   "outputs": [
    {
     "name": "stdout",
     "output_type": "stream",
     "text": [
      "x: 10 | Type: <class 'int'>\n",
      "y: 5.5 | Type: <class 'float'>\n",
      "z: Learning Python! | Type: <class 'str'>\n",
      "\n",
      "Initial type of dynamic_var: <class 'int'>\n",
      "Updated type of dynamic_var: <class 'str'>\n",
      "\n",
      "Addition: 19\n",
      "Subtraction: 11\n",
      "Multiplication: 60\n",
      "Division: 3.75\n",
      "Integer Division: 3\n",
      "Modulus: 3\n",
      "Square Root of a: 3.872983346207417\n",
      "a to the power of b: 50625.0\n",
      "\n",
      "Message: Hello, Alice!\n",
      "Repeating name: AliceAliceAlice\n",
      "Formatted Message: Hello, Alice! Welcome to Python.\n",
      "\n",
      "Is a greater than b?: True\n",
      "Is a equal to b?: False\n",
      "Logical AND: False\n",
      "Logical OR: True\n",
      "\n",
      "Mini Project: Detect Variable Type\n"
     ]
    },
    {
     "name": "stdin",
     "output_type": "stream",
     "text": [
      "Enter something:  65.5777\n"
     ]
    },
    {
     "name": "stdout",
     "output_type": "stream",
     "text": [
      "This is a float!\n"
     ]
    }
   ],
   "source": [
    "# 📚 **Lesson: Using Variables in Python**\n",
    "# ----------------------------------------\n",
    "\n",
    "# 🚀 **Introduction**\n",
    "# Variables are fundamental in Python. They allow us to store, update, and work with data dynamically. \n",
    "# In this lesson, we’ll explore:\n",
    "# - Declaring variables\n",
    "# - Dynamic typing\n",
    "# - Type conversion\n",
    "# - Mathematical operations\n",
    "# - String manipulations\n",
    "# - Interactive tasks and a mini-project 🎯\n",
    "\n",
    "# ----------------------------------------\n",
    "# **Section 1: Declaring Variables** ✏️\n",
    "# ----------------------------------------\n",
    "\n",
    "# Let's declare some variables of different types\n",
    "x = 10  # Integer\n",
    "y = 5.5  # Float\n",
    "z = \"Learning Python!\"  # String\n",
    "\n",
    "# Display the variables and their types\n",
    "print(\"x:\", x, \"| Type:\", type(x))\n",
    "print(\"y:\", y, \"| Type:\", type(y))\n",
    "print(\"z:\", z, \"| Type:\", type(z))\n",
    "\n",
    "# ✅ **Practice Task**:\n",
    "# - Create three variables: an integer, a float, and a string.\n",
    "# - Print their values and types.\n",
    "\n",
    "# ----------------------------------------\n",
    "# **Section 2: Dynamic Typing in Python** 🌀\n",
    "# ----------------------------------------\n",
    "\n",
    "# Python allows variables to change their type dynamically\n",
    "dynamic_var = 42\n",
    "print(\"\\nInitial type of dynamic_var:\", type(dynamic_var))\n",
    "\n",
    "# Change the type of the variable\n",
    "dynamic_var = \"Now I am a string!\"\n",
    "print(\"Updated type of dynamic_var:\", type(dynamic_var))\n",
    "\n",
    "# ✅ **Practice Task**:\n",
    "# - Assign different types of data (integer, float, string) to the same variable. \n",
    "# - Print its value and type after each assignment.\n",
    "\n",
    "# ----------------------------------------\n",
    "# **Section 3: Mathematical Operations with Variables** ➗\n",
    "# ----------------------------------------\n",
    "\n",
    "# Perform some operations\n",
    "a = 15\n",
    "b = 4\n",
    "\n",
    "# Addition, subtraction, multiplication, and division\n",
    "add = a + b\n",
    "sub = a - b\n",
    "mul = a * b\n",
    "div = a / b\n",
    "\n",
    "print(\"\\nAddition:\", add)\n",
    "print(\"Subtraction:\", sub)\n",
    "print(\"Multiplication:\", mul)\n",
    "print(\"Division:\", div)\n",
    "\n",
    "# Integer division and modulus\n",
    "int_div = a // b\n",
    "mod = a % b\n",
    "print(\"Integer Division:\", int_div)\n",
    "print(\"Modulus:\", mod)\n",
    "\n",
    "# Using the math module for advanced operations\n",
    "import math\n",
    "sqrt_val = math.sqrt(a)\n",
    "power = math.pow(a, b)\n",
    "\n",
    "print(\"Square Root of a:\", sqrt_val)\n",
    "print(\"a to the power of b:\", power)\n",
    "\n",
    "# ✅ **Practice Task**:\n",
    "# - Experiment with other mathematical operations using the math module (e.g., sin, cos, log).\n",
    "# - Write a program to calculate the area of a circle given its radius.\n",
    "\n",
    "# ----------------------------------------\n",
    "# **Section 4: String Manipulations** ✍️\n",
    "# ----------------------------------------\n",
    "\n",
    "# Basic string operations\n",
    "greeting = \"Hello\"\n",
    "name = \"Alice\"\n",
    "message = greeting + \", \" + name + \"!\"\n",
    "print(\"\\nMessage:\", message)\n",
    "\n",
    "# String repetition\n",
    "repeat = name * 3\n",
    "print(\"Repeating name:\", repeat)\n",
    "\n",
    "# String formatting\n",
    "formatted_message = f\"{greeting}, {name}! Welcome to Python.\"\n",
    "print(\"Formatted Message:\", formatted_message)\n",
    "\n",
    "# ✅ **Practice Task**:\n",
    "# - Create a program that takes a user’s first name and last name as input and combines them into a full name.\n",
    "# - Use f-strings to create a personalized greeting.\n",
    "\n",
    "# ----------------------------------------\n",
    "# **Section 5: Working with Booleans** ✅\n",
    "# ----------------------------------------\n",
    "\n",
    "# Boolean values and comparisons\n",
    "is_greater = a > b\n",
    "is_equal = a == b\n",
    "\n",
    "print(\"\\nIs a greater than b?:\", is_greater)\n",
    "print(\"Is a equal to b?:\", is_equal)\n",
    "\n",
    "# Logical operators\n",
    "logical_and = is_greater and is_equal\n",
    "logical_or = is_greater or is_equal\n",
    "\n",
    "print(\"Logical AND:\", logical_and)\n",
    "print(\"Logical OR:\", logical_or)\n",
    "\n",
    "# ✅ **Practice Task**:\n",
    "# - Write logical expressions using `and`, `or`, and `not`.\n",
    "# - Test these expressions with different values.\n",
    "\n",
    "# ----------------------------------------\n",
    "# **Section 6: Mini Project 🎯**\n",
    "# ----------------------------------------\n",
    "\n",
    "# A program to detect the type of input dynamically\n",
    "print(\"\\nMini Project: Detect Variable Type\")\n",
    "user_input = input(\"Enter something: \")\n",
    "\n",
    "# Detect the type of input\n",
    "try:\n",
    "    value = int(user_input)\n",
    "    print(\"This is an integer!\")\n",
    "except ValueError:\n",
    "    try:\n",
    "        value = float(user_input)\n",
    "        print(\"This is a float!\")\n",
    "    except ValueError:\n",
    "        if user_input.lower() in [\"true\", \"false\"]:\n",
    "            print(\"This is a boolean!\")\n",
    "        else:\n",
    "            print(\"This is a string!\")\n",
    "\n",
    "# ✅ **Practice Task**:\n",
    "# - Extend the program to detect lists, tuples, or dictionaries entered as strings."
   ]
  },
  {
   "cell_type": "code",
   "execution_count": 5,
   "id": "5489e79c-9e23-426e-b5d6-dd6af445f0b6",
   "metadata": {},
   "outputs": [],
   "source": []
  },
  {
   "cell_type": "code",
   "execution_count": null,
   "id": "1b1b0ff0-6ac0-4978-9bf4-ae31a5400f29",
   "metadata": {},
   "outputs": [],
   "source": []
  },
  {
   "cell_type": "code",
   "execution_count": 7,
   "id": "6e17af36-5ef7-40a7-8573-acb6b8796b1a",
   "metadata": {},
   "outputs": [],
   "source": [
    "# Practice "
   ]
  },
  {
   "cell_type": "code",
   "execution_count": 9,
   "id": "87ccb8f5-6eac-4850-ba56-1869b8bac952",
   "metadata": {},
   "outputs": [],
   "source": [
    "A = 10"
   ]
  },
  {
   "cell_type": "code",
   "execution_count": 11,
   "id": "8db88071-fff3-40df-b299-bf7e9a218c71",
   "metadata": {},
   "outputs": [],
   "source": [
    "B = 5"
   ]
  },
  {
   "cell_type": "code",
   "execution_count": 13,
   "id": "26b85208-51d8-4083-bf07-6bb4de63db0f",
   "metadata": {},
   "outputs": [],
   "source": [
    "C = A + B"
   ]
  },
  {
   "cell_type": "code",
   "execution_count": 15,
   "id": "bbab3fc1-e6ad-4b65-a67f-83e65c3fc6e7",
   "metadata": {},
   "outputs": [
    {
     "data": {
      "text/plain": [
       "15"
      ]
     },
     "execution_count": 15,
     "metadata": {},
     "output_type": "execute_result"
    }
   ],
   "source": [
    "C"
   ]
  },
  {
   "cell_type": "code",
   "execution_count": 17,
   "id": "3f485f6b-b028-415e-b6c2-451dae222ec8",
   "metadata": {},
   "outputs": [
    {
     "data": {
      "text/plain": [
       "int"
      ]
     },
     "execution_count": 17,
     "metadata": {},
     "output_type": "execute_result"
    }
   ],
   "source": [
    "type(C)"
   ]
  },
  {
   "cell_type": "code",
   "execution_count": 26,
   "id": "3a9ce182-9624-4de2-a368-6a35f853bd59",
   "metadata": {},
   "outputs": [
    {
     "data": {
      "text/plain": [
       "float"
      ]
     },
     "execution_count": 26,
     "metadata": {},
     "output_type": "execute_result"
    }
   ],
   "source": [
    "D = A / B\n",
    "D"
   ]
  },
  {
   "cell_type": "code",
   "execution_count": 28,
   "id": "41d7ab2a-b568-4092-b432-f86c5bf1f344",
   "metadata": {},
   "outputs": [
    {
     "data": {
      "text/plain": [
       "float"
      ]
     },
     "execution_count": 28,
     "metadata": {},
     "output_type": "execute_result"
    }
   ],
   "source": [
    "type(D)"
   ]
  },
  {
   "cell_type": "code",
   "execution_count": 30,
   "id": "0582ba64-ee82-4a41-b340-b89f6e1cc855",
   "metadata": {},
   "outputs": [],
   "source": [
    "import math"
   ]
  },
  {
   "cell_type": "code",
   "execution_count": 32,
   "id": "2e7cde45-bb24-4694-98ac-aa30f4745ad6",
   "metadata": {},
   "outputs": [
    {
     "data": {
      "text/plain": [
       "12.0"
      ]
     },
     "execution_count": 32,
     "metadata": {},
     "output_type": "execute_result"
    }
   ],
   "source": [
    "math.sqrt(144)"
   ]
  },
  {
   "cell_type": "code",
   "execution_count": 36,
   "id": "57da69c1-c0c6-47c3-8d75-7ee610d013ab",
   "metadata": {},
   "outputs": [
    {
     "data": {
      "text/plain": [
       "1.4142135623730951"
      ]
     },
     "execution_count": 36,
     "metadata": {},
     "output_type": "execute_result"
    }
   ],
   "source": [
    "math.sqrt(D)"
   ]
  },
  {
   "cell_type": "markdown",
   "id": "521ba394-883a-40b7-91c8-7f6176a47499",
   "metadata": {},
   "source": [
    "---"
   ]
  },
  {
   "cell_type": "code",
   "execution_count": 43,
   "id": "dadb2aa6-cc9f-4fa0-bd65-ac0981923a83",
   "metadata": {},
   "outputs": [],
   "source": [
    "G = \"hello\"\n"
   ]
  },
  {
   "cell_type": "code",
   "execution_count": 45,
   "id": "b7d46f37-7202-4326-8109-5748454f60ea",
   "metadata": {},
   "outputs": [],
   "source": [
    "name = \"Bob\" "
   ]
  },
  {
   "cell_type": "code",
   "execution_count": 47,
   "id": "1bd499d7-49c7-44d4-a010-dd3ccb8e0024",
   "metadata": {},
   "outputs": [],
   "source": [
    "massage = G + \" \" + name"
   ]
  },
  {
   "cell_type": "code",
   "execution_count": 49,
   "id": "27b7ab91-533e-4ebc-babd-b3b94fe342e8",
   "metadata": {},
   "outputs": [
    {
     "data": {
      "text/plain": [
       "'hello Bob'"
      ]
     },
     "execution_count": 49,
     "metadata": {},
     "output_type": "execute_result"
    }
   ],
   "source": [
    "massage"
   ]
  },
  {
   "cell_type": "code",
   "execution_count": 43,
   "id": "96ec7065-e19e-484b-8ca3-22a7f2af9530",
   "metadata": {},
   "outputs": [],
   "source": []
  }
 ],
 "metadata": {
  "kernelspec": {
   "display_name": "Python [conda env:base] *",
   "language": "python",
   "name": "conda-base-py"
  },
  "language_info": {
   "codemirror_mode": {
    "name": "ipython",
    "version": 3
   },
   "file_extension": ".py",
   "mimetype": "text/x-python",
   "name": "python",
   "nbconvert_exporter": "python",
   "pygments_lexer": "ipython3",
   "version": "3.12.3"
  }
 },
 "nbformat": 4,
 "nbformat_minor": 5
}
