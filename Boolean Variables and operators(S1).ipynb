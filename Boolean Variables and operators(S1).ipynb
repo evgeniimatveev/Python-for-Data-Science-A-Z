{
 "cells": [
  {
   "cell_type": "code",
   "execution_count": 34,
   "id": "17a80544-7beb-4f5f-9b4a-5c83d365b458",
   "metadata": {},
   "outputs": [
    {
     "name": "stdout",
     "output_type": "stream",
     "text": [
      "Is it raining? True\n",
      "Is it sunny? False\n",
      "\n",
      "Comparisons:\n",
      "a == b: False\n",
      "a != b: True\n",
      "a < b: True\n",
      "a > b: False\n",
      "a <= b: True\n",
      "a >= b: False\n",
      "\n",
      "Logical Operators:\n",
      "x > 0 and y > 0: True\n",
      "x > 0 or y < 0: True\n",
      "not (x > 0): False\n",
      "Is x between 0 and 10? True\n",
      "\n",
      "Using math library:\n",
      "Sin of 30 degrees: 0.49999999999999994\n",
      "Is the square root of the absolute value of number > 4? False\n",
      "\n",
      "Mini Project: Check Student Grade\n"
     ]
    },
    {
     "name": "stdin",
     "output_type": "stream",
     "text": [
      "Enter the grade (0-100):  90\n"
     ]
    },
    {
     "name": "stdout",
     "output_type": "stream",
     "text": [
      "Grade: A\n"
     ]
    }
   ],
   "source": [
    "# 📚 **Lesson: Boolean Variables and Operators in Python**\n",
    "# ----------------------------------------\n",
    "\n",
    "# 🚀 **Introduction**\n",
    "# Boolean variables represent logical values: `True` or `False`. \n",
    "# These variables are crucial in decision-making and comparisons in programming. \n",
    "\n",
    "# In this lesson, we’ll cover:\n",
    "# - Comparison operators\n",
    "# - Logical operators (`and`, `or`, `not`)\n",
    "# - Practical examples\n",
    "# - Using the `math` library for logical comparisons\n",
    "\n",
    "# ----------------------------------------\n",
    "# **Section 1: Boolean Variables** ✅\n",
    "# ----------------------------------------\n",
    "\n",
    "# Boolean values: `True` or `False`\n",
    "is_raining = True\n",
    "is_sunny = False\n",
    "\n",
    "print(\"Is it raining?\", is_raining)\n",
    "print(\"Is it sunny?\", is_sunny)\n",
    "\n",
    "# ✅ **Practice Task**:\n",
    "# - Create two boolean variables representing any real-world conditions (e.g., `is_hungry`, `is_tired`).\n",
    "# - Print their values.\n",
    "\n",
    "# ----------------------------------------\n",
    "# **Section 2: Comparison Operators** ➗\n",
    "# ----------------------------------------\n",
    "\n",
    "# Python provides several operators to compare values:\n",
    "# == : Equal to\n",
    "# != : Not equal to\n",
    "# <  : Less than\n",
    "# >  : Greater than\n",
    "# <= : Less than or equal to\n",
    "# >= : Greater than or equal to\n",
    "\n",
    "a = 10\n",
    "b = 20\n",
    "\n",
    "# Examples of comparison operators\n",
    "print(\"\\nComparisons:\")\n",
    "print(\"a == b:\", a == b)  # False\n",
    "print(\"a != b:\", a != b)  # True\n",
    "print(\"a < b:\", a < b)    # True\n",
    "print(\"a > b:\", a > b)    # False\n",
    "print(\"a <= b:\", a <= b)  # True\n",
    "print(\"a >= b:\", a >= b)  # False\n",
    "\n",
    "# ✅ **Practice Task**:\n",
    "# - Compare two numbers of your choice using all the comparison operators.\n",
    "# - Write an expression that evaluates if a number is between two other numbers (e.g., `5 < x < 10`).\n",
    "\n",
    "# ----------------------------------------\n",
    "# **Section 3: Logical Operators** 🔄\n",
    "# ----------------------------------------\n",
    "\n",
    "# Logical operators combine boolean values:\n",
    "# - `and`: True if both conditions are True\n",
    "# - `or`: True if at least one condition is True\n",
    "# - `not`: Inverts the boolean value\n",
    "\n",
    "x = 5\n",
    "y = 10\n",
    "\n",
    "# Examples of logical operators\n",
    "print(\"\\nLogical Operators:\")\n",
    "print(\"x > 0 and y > 0:\", x > 0 and y > 0)  # True\n",
    "print(\"x > 0 or y < 0:\", x > 0 or y < 0)   # True\n",
    "print(\"not (x > 0):\", not (x > 0))        # False\n",
    "\n",
    "# Combining comparison and logical operators\n",
    "is_between = x > 0 and x < 10\n",
    "print(\"Is x between 0 and 10?\", is_between)\n",
    "\n",
    "# ✅ **Practice Task**:\n",
    "# - Write a program to check if a number is positive and even using `and`.\n",
    "# - Write a program to check if a number is negative or greater than 100 using `or`.\n",
    "\n",
    "# ----------------------------------------\n",
    "# **Section 4: Using `math` Library** 🧮\n",
    "# ----------------------------------------\n",
    "\n",
    "# The `math` library provides advanced mathematical operations and constants\n",
    "import math\n",
    "\n",
    "# Examples with `math`\n",
    "angle = 30  # Degrees\n",
    "radian = math.radians(angle)  # Convert to radians\n",
    "sin_value = math.sin(radian)\n",
    "\n",
    "print(\"\\nUsing math library:\")\n",
    "print(\"Sin of 30 degrees:\", sin_value)\n",
    "\n",
    "# Logical comparison using `math`\n",
    "number = -25\n",
    "sqrt_check = number >= 0 and math.sqrt(abs(number)) > 4\n",
    "\n",
    "print(\"Is the square root of the absolute value of number > 4?\", sqrt_check)\n",
    "\n",
    "# ✅ **Practice Task**:\n",
    "# - Use `math.log()` to compute the logarithm of a number and check if it’s greater than 1.\n",
    "# - Write a program to find if a number is within a specific range using `math`.\n",
    "\n",
    "# ----------------------------------------\n",
    "# **Section 5: Mini Project 🎯**\n",
    "# ----------------------------------------\n",
    "\n",
    "# Let’s build a program that checks conditions using boolean and comparison operators\n",
    "\n",
    "print(\"\\nMini Project: Check Student Grade\")\n",
    "\n",
    "# Input a student's grade\n",
    "grade = float(input(\"Enter the grade (0-100): \"))\n",
    "\n",
    "# Conditions\n",
    "if grade >= 90:\n",
    "    print(\"Grade: A\")\n",
    "elif grade >= 80 and grade < 90:\n",
    "    print(\"Grade: B\")\n",
    "elif grade >= 70 and grade < 80:\n",
    "    print(\"Grade: C\")\n",
    "elif grade >= 60 and grade < 70:\n",
    "    print(\"Grade: D\")\n",
    "else:\n",
    "    print(\"Grade: F\")\n",
    "\n",
    "# ✅ **Practice Task**:\n",
    "# - Extend the program to include pass/fail conditions.\n",
    "# - Add an option for the user to enter multiple grades and calculate the average."
   ]
  },
  {
   "cell_type": "code",
   "execution_count": null,
   "id": "8cfcb341-2669-4d14-a30c-eb1fd994358a",
   "metadata": {},
   "outputs": [],
   "source": []
  },
  {
   "cell_type": "code",
   "execution_count": null,
   "id": "2ef90c46-5b11-41ab-89e6-176fee5103bd",
   "metadata": {},
   "outputs": [],
   "source": []
  },
  {
   "cell_type": "code",
   "execution_count": null,
   "id": "600bbba2-542b-45bf-a02c-6672a03e033c",
   "metadata": {},
   "outputs": [],
   "source": []
  },
  {
   "cell_type": "code",
   "execution_count": 50,
   "id": "b1e48a39-29a9-4aa1-bf5f-090740e38673",
   "metadata": {},
   "outputs": [
    {
     "name": "stdout",
     "output_type": "stream",
     "text": [
      "\n",
      "Mini Project: Check Student Grade\n"
     ]
    },
    {
     "name": "stdin",
     "output_type": "stream",
     "text": [
      "Enter the grade (0-100):  79\n"
     ]
    },
    {
     "name": "stdout",
     "output_type": "stream",
     "text": [
      "Grade: C\n"
     ]
    }
   ],
   "source": [
    "# Mini Project 🎯**\n",
    "\n",
    "\n",
    "print(\"\\nMini Project: Check Student Grade\")\n",
    "\n",
    "# Input a student's grade\n",
    "grade = float(input(\"Enter the grade (0-100): \"))\n",
    "\n",
    "# Conditions\n",
    "if grade >= 90:\n",
    "    print(\"Grade: A\")\n",
    "elif grade >= 80 and grade < 90:\n",
    "    print(\"Grade: B\")\n",
    "elif grade >= 70 and grade < 80:\n",
    "    print(\"Grade: C\")\n",
    "elif grade >= 60 and grade < 70:\n",
    "    print(\"Grade: D\")\n",
    "else:\n",
    "    print(\"Grade: F\")"
   ]
  },
  {
   "cell_type": "code",
   "execution_count": null,
   "id": "f0275a17-b34b-4914-b693-d329ede23a40",
   "metadata": {},
   "outputs": [],
   "source": []
  },
  {
   "cell_type": "code",
   "execution_count": null,
   "id": "f2eb4053-6e71-4a4b-b92a-7efb6fe03e1c",
   "metadata": {},
   "outputs": [],
   "source": []
  },
  {
   "cell_type": "code",
   "execution_count": null,
   "id": "1509155e-1d15-4f95-bfd3-e2ceb9ad9320",
   "metadata": {},
   "outputs": [],
   "source": []
  },
  {
   "cell_type": "code",
   "execution_count": null,
   "id": "d5120834-4f3b-457e-b27f-497055b34740",
   "metadata": {},
   "outputs": [],
   "source": []
  },
  {
   "cell_type": "code",
   "execution_count": null,
   "id": "aa635cfd-4bf7-4a7d-8134-613512fb5cdb",
   "metadata": {},
   "outputs": [],
   "source": []
  },
  {
   "cell_type": "code",
   "execution_count": 1,
   "id": "a37b8791-a628-43e3-9ae8-271a679f52ae",
   "metadata": {},
   "outputs": [],
   "source": []
  }
 ],
 "metadata": {
  "kernelspec": {
   "display_name": "Python [conda env:base] *",
   "language": "python",
   "name": "conda-base-py"
  },
  "language_info": {
   "codemirror_mode": {
    "name": "ipython",
    "version": 3
   },
   "file_extension": ".py",
   "mimetype": "text/x-python",
   "name": "python",
   "nbconvert_exporter": "python",
   "pygments_lexer": "ipython3",
   "version": "3.12.3"
  },
  "panel-cell-order": [
   "a52ecb62-9ddc-433e-bf6e-c2323a91cc48",
   "9a5ccf87-18f5-4e6a-882d-a5f2a3426943"
  ]
 },
 "nbformat": 4,
 "nbformat_minor": 5
}
