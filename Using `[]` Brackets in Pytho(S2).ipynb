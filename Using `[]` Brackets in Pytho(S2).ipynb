{
 "cells": [
  {
   "cell_type": "code",
   "execution_count": null,
   "id": "19b9696b-d8c0-4038-a657-f7d4839a7274",
   "metadata": {},
   "outputs": [],
   "source": []
  },
  {
   "cell_type": "code",
   "execution_count": null,
   "id": "956455ae-c80a-4ece-8954-097894955600",
   "metadata": {},
   "outputs": [],
   "source": []
  },
  {
   "cell_type": "code",
   "execution_count": 24,
   "id": "2be4d5a7-7b3d-40a1-9b7d-44f8f6ca6a45",
   "metadata": {},
   "outputs": [
    {
     "name": "stdout",
     "output_type": "stream",
     "text": [
      "List: [1, 2, 3, 4, 5]\n",
      "Mixed List: ['Python', 42, 3.14, True]\n",
      "Empty List: []\n",
      "\n",
      "List w: ['a', 'b', 'c', 'd', 'e']\n",
      "First element: a\n",
      "Last element: e\n",
      "Element at index 2: c\n",
      "\n",
      "Original List: ['a', 'b', 'c', 'd', 'e']\n",
      "Modified List: ['a', 'b', 63, 'd', 'e']\n",
      "After Append: ['a', 'b', 63, 'd', 'e', 'f']\n",
      "\n",
      "Original List: ['a', 'b', 63, 'd', 'e', 'f']\n",
      "Sliced List (index 1 to 3): ['b', 63, 'd']\n",
      "Every second item: ['a', 63, 'e']\n",
      "Reversed List: ['f', 'e', 'd', 63, 'b', 'a']\n",
      "\n",
      "Enumerating List:\n",
      "Index 0: a\n",
      "Index 1: b\n",
      "Index 2: 63\n",
      "Index 3: d\n",
      "Index 4: e\n",
      "Index 5: f\n",
      "\n",
      "Mini Project: List Manager\n",
      "\n",
      "Current List: []\n",
      "Options:\n",
      "1. Add an item\n",
      "2. Remove an item\n",
      "3. View an item by index\n",
      "4. Exit\n"
     ]
    },
    {
     "name": "stdin",
     "output_type": "stream",
     "text": [
      "Choose an option (1-4):  1\n",
      "Enter the item to add:  apple\n"
     ]
    },
    {
     "name": "stdout",
     "output_type": "stream",
     "text": [
      "'apple' added to the list!\n",
      "\n",
      "Current List: ['apple']\n",
      "Options:\n",
      "1. Add an item\n",
      "2. Remove an item\n",
      "3. View an item by index\n",
      "4. Exit\n"
     ]
    },
    {
     "name": "stdin",
     "output_type": "stream",
     "text": [
      "Choose an option (1-4):  3\n",
      "Enter the index:  4\n"
     ]
    },
    {
     "name": "stdout",
     "output_type": "stream",
     "text": [
      "Invalid index!\n",
      "\n",
      "Current List: ['apple']\n",
      "Options:\n",
      "1. Add an item\n",
      "2. Remove an item\n",
      "3. View an item by index\n",
      "4. Exit\n"
     ]
    },
    {
     "name": "stdin",
     "output_type": "stream",
     "text": [
      "Choose an option (1-4):  4\n"
     ]
    },
    {
     "name": "stdout",
     "output_type": "stream",
     "text": [
      "Exiting List Manager. Goodbye!\n"
     ]
    }
   ],
   "source": [
    "# 📚 **Lesson: Using `[]` Brackets in Python**\n",
    "# ----------------------------------------\n",
    "\n",
    "# 🚀 **Introduction**\n",
    "# In Python, square brackets `[]` are used to define **lists** and access or modify their elements. \n",
    "# Lists are one of the most versatile data structures in Python.\n",
    "\n",
    "# **Key Features of `[]` Brackets**:\n",
    "# 1. Create lists.\n",
    "# 2. Access elements by index.\n",
    "# 3. Modify elements.\n",
    "# 4. Slice lists to create sublists.\n",
    "\n",
    "# ----------------------------------------\n",
    "# **Section 1: Creating Lists with `[]`** 📋\n",
    "# ----------------------------------------\n",
    "\n",
    "# Example: Creating a list\n",
    "my_list = [1, 2, 3, 4, 5]\n",
    "print(\"List:\", my_list)\n",
    "\n",
    "# Lists can store mixed data types\n",
    "mixed_list = [\"Python\", 42, 3.14, True]\n",
    "print(\"Mixed List:\", mixed_list)\n",
    "\n",
    "# Empty list\n",
    "empty_list = []\n",
    "print(\"Empty List:\", empty_list)\n",
    "\n",
    "# ✅ **Practice Task**:\n",
    "# - Create your own list with at least 5 items (e.g., names, numbers).\n",
    "# - Create an empty list and add items to it using `.append()`.\n",
    "\n",
    "# ----------------------------------------\n",
    "# **Section 2: Accessing List Elements** 🔍\n",
    "# ----------------------------------------\n",
    "\n",
    "# Access elements by index\n",
    "w = ['a', 'b', 'c', 'd', 'e']\n",
    "print(\"\\nList w:\", w)\n",
    "print(\"First element:\", w[0])  # Index starts at 0\n",
    "print(\"Last element:\", w[-1])  # Negative index (-1 is the last element)\n",
    "\n",
    "# Access elements in the middle\n",
    "print(\"Element at index 2:\", w[2])\n",
    "\n",
    "# ✅ **Practice Task**:\n",
    "# - Access the second and fourth elements of your list.\n",
    "# - Use negative indexing to get the last two elements.\n",
    "\n",
    "# ----------------------------------------\n",
    "# **Section 3: Modifying List Elements** 🛠️\n",
    "# ----------------------------------------\n",
    "\n",
    "# Replace an element\n",
    "print(\"\\nOriginal List:\", w)\n",
    "w[2] = 63  # Replace 'c' with 63\n",
    "print(\"Modified List:\", w)\n",
    "\n",
    "# Add elements using append\n",
    "w.append('f')\n",
    "print(\"After Append:\", w)\n",
    "\n",
    "# ✅ **Practice Task**:\n",
    "# - Replace the first element of a list with a new value.\n",
    "# - Add a new item to your list using `.append()`.\n",
    "\n",
    "# ----------------------------------------\n",
    "# **Section 4: Slicing Lists with `[]`** 🔪\n",
    "# ----------------------------------------\n",
    "\n",
    "# Slicing to create sublists\n",
    "print(\"\\nOriginal List:\", w)\n",
    "sub_list = w[1:4]  # Get elements from index 1 to 3\n",
    "print(\"Sliced List (index 1 to 3):\", sub_list)\n",
    "\n",
    "# Slicing with steps\n",
    "print(\"Every second item:\", w[::2])  # Start to end with step of 2\n",
    "\n",
    "# Reverse the list using slicing\n",
    "print(\"Reversed List:\", w[::-1])\n",
    "\n",
    "# ✅ **Practice Task**:\n",
    "# - Create a slice containing the first three elements of a list.\n",
    "# - Create a reversed copy of your list using slicing.\n",
    "\n",
    "# ----------------------------------------\n",
    "# **Section 5: Advanced Example: Enumerating with Indices** 🔢\n",
    "# ----------------------------------------\n",
    "\n",
    "# Enumerating items with indices\n",
    "print(\"\\nEnumerating List:\")\n",
    "for index, value in enumerate(w):\n",
    "    print(f\"Index {index}: {value}\")\n",
    "\n",
    "# ✅ **Practice Task**:\n",
    "# - Write a loop to print all elements with their indices.\n",
    "\n",
    "# ----------------------------------------\n",
    "# **Section 6: Mini Project: List Manager** 📝\n",
    "# ----------------------------------------\n",
    "\n",
    "# Let’s create a program that allows users to manage a list interactively.\n",
    "\n",
    "print(\"\\nMini Project: List Manager\")\n",
    "\n",
    "# Step 1: Create an empty list\n",
    "user_list = []\n",
    "\n",
    "while True:\n",
    "    print(\"\\nCurrent List:\", user_list)\n",
    "    print(\"Options:\")\n",
    "    print(\"1. Add an item\")\n",
    "    print(\"2. Remove an item\")\n",
    "    print(\"3. View an item by index\")\n",
    "    print(\"4. Exit\")\n",
    "    \n",
    "    choice = input(\"Choose an option (1-4): \")\n",
    "    \n",
    "    if choice == \"1\":\n",
    "        item = input(\"Enter the item to add: \")\n",
    "        user_list.append(item)\n",
    "        print(f\"'{item}' added to the list!\")\n",
    "    elif choice == \"2\":\n",
    "        item = input(\"Enter the item to remove: \")\n",
    "        if item in user_list:\n",
    "            user_list.remove(item)\n",
    "            print(f\"'{item}' removed from the list!\")\n",
    "        else:\n",
    "            print(f\"'{item}' not found in the list.\")\n",
    "    elif choice == \"3\":\n",
    "        index = int(input(\"Enter the index: \"))\n",
    "        if 0 <= index < len(user_list):\n",
    "            print(f\"Item at index {index}: {user_list[index]}\")\n",
    "        else:\n",
    "            print(\"Invalid index!\")\n",
    "    elif choice == \"4\":\n",
    "        print(\"Exiting List Manager. Goodbye!\")\n",
    "        break\n",
    "    else:\n",
    "        print(\"Invalid choice. Please try again.\")\n",
    "\n",
    "# ✅ **Practice Task**:\n",
    "# - Extend this program to allow sorting the list alphabetically.\n",
    "# - Add an option to clear the entire list."
   ]
  },
  {
   "cell_type": "code",
   "execution_count": null,
   "id": "f4a5e9b0-30b3-4b6a-8c5b-b0277280f642",
   "metadata": {},
   "outputs": [],
   "source": []
  },
  {
   "cell_type": "code",
   "execution_count": null,
   "id": "2806c989-7c0c-4b3e-a3bc-1d48cfb4ab4a",
   "metadata": {},
   "outputs": [],
   "source": []
  },
  {
   "cell_type": "code",
   "execution_count": null,
   "id": "67e44fe5-6ca9-4b5d-b712-58b1036a770a",
   "metadata": {},
   "outputs": [],
   "source": []
  },
  {
   "cell_type": "code",
   "execution_count": 31,
   "id": "d1b09c74-642b-411b-bab0-0a0d2bf337e5",
   "metadata": {},
   "outputs": [
    {
     "name": "stdout",
     "output_type": "stream",
     "text": [
      "\n",
      "Current List: []\n",
      "Options:\n",
      "1. Add an item\n",
      "2. Remove an item\n",
      "3. View an item by index\n",
      "4. Exit\n"
     ]
    },
    {
     "name": "stdin",
     "output_type": "stream",
     "text": [
      "Choose an option (1-4):  1\n",
      "Enter the item to add:  Grape\n"
     ]
    },
    {
     "name": "stdout",
     "output_type": "stream",
     "text": [
      "'Grape' added to the list!\n",
      "\n",
      "Current List: ['Grape']\n",
      "Options:\n",
      "1. Add an item\n",
      "2. Remove an item\n",
      "3. View an item by index\n",
      "4. Exit\n"
     ]
    },
    {
     "name": "stdin",
     "output_type": "stream",
     "text": [
      "Choose an option (1-4):  1\n",
      "Enter the item to add:  Orange\n"
     ]
    },
    {
     "name": "stdout",
     "output_type": "stream",
     "text": [
      "'Orange' added to the list!\n",
      "\n",
      "Current List: ['Grape', 'Orange']\n",
      "Options:\n",
      "1. Add an item\n",
      "2. Remove an item\n",
      "3. View an item by index\n",
      "4. Exit\n"
     ]
    },
    {
     "name": "stdin",
     "output_type": "stream",
     "text": [
      "Choose an option (1-4):  3\n",
      "Enter the index:  4\n"
     ]
    },
    {
     "name": "stdout",
     "output_type": "stream",
     "text": [
      "Invalid index!\n",
      "\n",
      "Current List: ['Grape', 'Orange']\n",
      "Options:\n",
      "1. Add an item\n",
      "2. Remove an item\n",
      "3. View an item by index\n",
      "4. Exit\n"
     ]
    },
    {
     "name": "stdin",
     "output_type": "stream",
     "text": [
      "Choose an option (1-4):  1\n",
      "Enter the item to add:  Banana\n"
     ]
    },
    {
     "name": "stdout",
     "output_type": "stream",
     "text": [
      "'Banana' added to the list!\n",
      "\n",
      "Current List: ['Grape', 'Orange', 'Banana']\n",
      "Options:\n",
      "1. Add an item\n",
      "2. Remove an item\n",
      "3. View an item by index\n",
      "4. Exit\n"
     ]
    },
    {
     "name": "stdin",
     "output_type": "stream",
     "text": [
      "Choose an option (1-4):  2\n",
      "Enter the item to remove:  Orange\n"
     ]
    },
    {
     "name": "stdout",
     "output_type": "stream",
     "text": [
      "'Orange' removed from the list!\n",
      "\n",
      "Current List: ['Grape', 'Banana']\n",
      "Options:\n",
      "1. Add an item\n",
      "2. Remove an item\n",
      "3. View an item by index\n",
      "4. Exit\n"
     ]
    },
    {
     "name": "stdin",
     "output_type": "stream",
     "text": [
      "Choose an option (1-4):  4\n"
     ]
    },
    {
     "name": "stdout",
     "output_type": "stream",
     "text": [
      "Exiting List Manager. Goodbye!\n"
     ]
    }
   ],
   "source": [
    "## print(\"\\nMini Project: List Manager\")\n",
    "\n",
    "# Step 1: Create an empty list\n",
    "user_list = []\n",
    "\n",
    "while True:\n",
    "    print(\"\\nCurrent List:\", user_list)\n",
    "    print(\"Options:\")\n",
    "    print(\"1. Add an item\")\n",
    "    print(\"2. Remove an item\")\n",
    "    print(\"3. View an item by index\")\n",
    "    print(\"4. Exit\")\n",
    "    \n",
    "    choice = input(\"Choose an option (1-4): \")\n",
    "    \n",
    "    if choice == \"1\":\n",
    "        item = input(\"Enter the item to add: \")\n",
    "        user_list.append(item)\n",
    "        print(f\"'{item}' added to the list!\")\n",
    "    elif choice == \"2\":\n",
    "        item = input(\"Enter the item to remove: \")\n",
    "        if item in user_list:\n",
    "            user_list.remove(item)\n",
    "            print(f\"'{item}' removed from the list!\")\n",
    "        else:\n",
    "            print(f\"'{item}' not found in the list.\")\n",
    "    elif choice == \"3\":\n",
    "        index = int(input(\"Enter the index: \"))\n",
    "        if 0 <= index < len(user_list):\n",
    "            print(f\"Item at index {index}: {user_list[index]}\")\n",
    "        else:\n",
    "            print(\"Invalid index!\")\n",
    "    elif choice == \"4\":\n",
    "        print(\"Exiting List Manager. Goodbye!\")\n",
    "        break\n",
    "    else:\n",
    "        print(\"Invalid choice. Please try again.\")\n",
    "\n",
    "# ✅ **Practice Task**:\n",
    "# - Extend this program to allow sorting the list alphabetically.\n",
    "# - Add an option to clear the entire list."
   ]
  },
  {
   "cell_type": "code",
   "execution_count": null,
   "id": "1c7f6a7a-983c-4e90-bbc4-acc5993fc26c",
   "metadata": {},
   "outputs": [],
   "source": []
  },
  {
   "cell_type": "code",
   "execution_count": null,
   "id": "09d177c5-37d3-4fec-9afe-20457ae61767",
   "metadata": {},
   "outputs": [],
   "source": []
  },
  {
   "cell_type": "code",
   "execution_count": null,
   "id": "2d5ebd25-ace5-44eb-98e5-3b0078300f53",
   "metadata": {},
   "outputs": [],
   "source": []
  },
  {
   "cell_type": "code",
   "execution_count": null,
   "id": "cc7286b6-4d5a-4f8b-80fd-d0ea63a8650b",
   "metadata": {},
   "outputs": [],
   "source": []
  },
  {
   "cell_type": "code",
   "execution_count": null,
   "id": "f57d054e-6f92-431e-a6c7-168afb8f0109",
   "metadata": {},
   "outputs": [],
   "source": []
  }
 ],
 "metadata": {
  "kernelspec": {
   "display_name": "Python [conda env:base] *",
   "language": "python",
   "name": "conda-base-py"
  },
  "language_info": {
   "codemirror_mode": {
    "name": "ipython",
    "version": 3
   },
   "file_extension": ".py",
   "mimetype": "text/x-python",
   "name": "python",
   "nbconvert_exporter": "python",
   "pygments_lexer": "ipython3",
   "version": "3.12.3"
  }
 },
 "nbformat": 4,
 "nbformat_minor": 5
}
