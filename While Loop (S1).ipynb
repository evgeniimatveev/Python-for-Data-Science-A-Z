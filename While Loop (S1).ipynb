{
 "cells": [
  {
   "cell_type": "code",
   "execution_count": 20,
   "id": "db52195a-15a7-4926-958d-d95f0685faa1",
   "metadata": {},
   "outputs": [
    {
     "name": "stdout",
     "output_type": "stream",
     "text": [
      "Counting from 1 to 5:\n",
      "1\n",
      "2\n",
      "3\n",
      "4\n",
      "5\n",
      "\n",
      "Using a 'break' statement:\n",
      "1\n",
      "2\n",
      "3\n",
      "4\n",
      "5\n",
      "\n",
      "Skipping even numbers:\n",
      "1\n",
      "3\n",
      "5\n",
      "7\n",
      "9\n",
      "\n",
      "Mini Project: Password Checker\n"
     ]
    },
    {
     "name": "stdin",
     "output_type": "stream",
     "text": [
      "Enter the password:  fgggf12\n"
     ]
    },
    {
     "name": "stdout",
     "output_type": "stream",
     "text": [
      "Wrong password. Attempts left: 2\n"
     ]
    },
    {
     "name": "stdin",
     "output_type": "stream",
     "text": [
      "Enter the password:  1234\n"
     ]
    },
    {
     "name": "stdout",
     "output_type": "stream",
     "text": [
      "Wrong password. Attempts left: 1\n"
     ]
    },
    {
     "name": "stdin",
     "output_type": "stream",
     "text": [
      "Enter the password:  6677\n"
     ]
    },
    {
     "name": "stdout",
     "output_type": "stream",
     "text": [
      "Wrong password. Attempts left: 0\n",
      "Access Denied. ❌ Too many failed attempts.\n",
      "\n",
      "Nested 'While' Loops:\n",
      "Outer loop iteration 1\n",
      "  Inner loop iteration 1\n",
      "  Inner loop iteration 2\n",
      "Outer loop iteration 2\n",
      "  Inner loop iteration 1\n",
      "  Inner loop iteration 2\n",
      "Outer loop iteration 3\n",
      "  Inner loop iteration 1\n",
      "  Inner loop iteration 2\n",
      "\n",
      "Avoid infinite loops by ensuring the loop condition changes within the loop!\n"
     ]
    }
   ],
   "source": [
    "# 📚 **Lesson: The \"While\" Loop in Python**\n",
    "# ----------------------------------------\n",
    "\n",
    "# 🚀 **Introduction**\n",
    "# The `while` loop in Python is used to repeat a block of code as long as a given condition is `True`.\n",
    "# It is particularly useful when the number of iterations is not known in advance.\n",
    "\n",
    "# Structure:\n",
    "# while <condition>:\n",
    "#     <code to execute repeatedly>\n",
    "\n",
    "# ----------------------------------------\n",
    "# **Section 1: Basics of the \"While\" Loop** 🔄\n",
    "# ----------------------------------------\n",
    "\n",
    "# Example 1: Simple counting loop\n",
    "print(\"Counting from 1 to 5:\")\n",
    "counter = 1\n",
    "while counter <= 5:\n",
    "    print(counter)\n",
    "    counter += 1  # Increment the counter to avoid infinite loop\n",
    "\n",
    "# ✅ **Practice Task**:\n",
    "# - Modify the above example to count down from 5 to 1.\n",
    "# - Try changing the condition to `counter < 3`.\n",
    "\n",
    "# ----------------------------------------\n",
    "# **Section 2: Using a \"Break\" Statement** 🛑\n",
    "# ----------------------------------------\n",
    "\n",
    "# Sometimes, you may want to exit the loop early using `break`.\n",
    "print(\"\\nUsing a 'break' statement:\")\n",
    "counter = 1\n",
    "while True:  # Infinite loop\n",
    "    print(counter)\n",
    "    counter += 1\n",
    "    if counter > 5:\n",
    "        break  # Exit the loop when the counter exceeds 5\n",
    "\n",
    "# ✅ **Practice Task**:\n",
    "# - Modify the above code to stop the loop when the counter reaches 3.\n",
    "# - Add a condition to print \"Stopped!\" when exiting the loop.\n",
    "\n",
    "# ----------------------------------------\n",
    "# **Section 3: Using a \"Continue\" Statement** ↩️\n",
    "# ----------------------------------------\n",
    "\n",
    "# The `continue` statement skips the current iteration and moves to the next one.\n",
    "print(\"\\nSkipping even numbers:\")\n",
    "counter = 0\n",
    "while counter < 10:\n",
    "    counter += 1\n",
    "    if counter % 2 == 0:  # Skip even numbers\n",
    "        continue\n",
    "    print(counter)\n",
    "\n",
    "# ✅ **Practice Task**:\n",
    "# - Modify the code to skip odd numbers instead of even numbers.\n",
    "# - Try printing \"Skipped!\" for each skipped iteration.\n",
    "\n",
    "# ----------------------------------------\n",
    "# **Section 4: Mini Project: Password Checker** 🔑\n",
    "# ----------------------------------------\n",
    "\n",
    "# Let’s create a simple program to simulate a password checker.\n",
    "print(\"\\nMini Project: Password Checker\")\n",
    "\n",
    "# Predefined password\n",
    "correct_password = \"python123\"\n",
    "\n",
    "# User gets 3 attempts to enter the correct password\n",
    "attempts = 3\n",
    "\n",
    "while attempts > 0:\n",
    "    user_input = input(\"Enter the password: \")\n",
    "    if user_input == correct_password:\n",
    "        print(\"Access Granted! ✅\")\n",
    "        break\n",
    "    else:\n",
    "        attempts -= 1\n",
    "        print(f\"Wrong password. Attempts left: {attempts}\")\n",
    "else:\n",
    "    print(\"Access Denied. ❌ Too many failed attempts.\")\n",
    "\n",
    "# ✅ **Practice Task**:\n",
    "# - Modify the project to allow the user to reset their password if they fail 3 times.\n",
    "# - Add a feature to track and display the total number of login attempts.\n",
    "\n",
    "# ----------------------------------------\n",
    "# **Section 5: Nested \"While\" Loops** ➿\n",
    "# ----------------------------------------\n",
    "\n",
    "# You can also nest one `while` loop inside another.\n",
    "print(\"\\nNested 'While' Loops:\")\n",
    "outer_counter = 1\n",
    "while outer_counter <= 3:\n",
    "    print(f\"Outer loop iteration {outer_counter}\")\n",
    "    inner_counter = 1\n",
    "    while inner_counter <= 2:\n",
    "        print(f\"  Inner loop iteration {inner_counter}\")\n",
    "        inner_counter += 1\n",
    "    outer_counter += 1\n",
    "\n",
    "# ✅ **Practice Task**:\n",
    "# - Modify the nested loop to iterate 4 times in the outer loop and 3 times in the inner loop.\n",
    "# - Try adding a `break` statement to exit both loops when a specific condition is met.\n",
    "\n",
    "# ----------------------------------------\n",
    "# **Section 6: Infinite Loops and Common Mistakes** 🔁\n",
    "# ----------------------------------------\n",
    "\n",
    "# Infinite loops occur when the loop condition is always `True` and there's no way to exit the loop.\n",
    "# Example of an infinite loop (commented to avoid running indefinitely):\n",
    "# while True:\n",
    "#     print(\"This is an infinite loop\")\n",
    "\n",
    "# **Common mistakes**:\n",
    "# 1. Forgetting to update the loop variable (causes infinite loops).\n",
    "# 2. Using a condition that is always `True`.\n",
    "\n",
    "print(\"\\nAvoid infinite loops by ensuring the loop condition changes within the loop!\")"
   ]
  },
  {
   "cell_type": "code",
   "execution_count": 4,
   "id": "b3ce2ffc-60ce-414f-afbc-9aabea2bfa95",
   "metadata": {},
   "outputs": [],
   "source": []
  },
  {
   "cell_type": "code",
   "execution_count": 4,
   "id": "dd41aa25-2296-4e9a-9705-2f95e562c957",
   "metadata": {},
   "outputs": [],
   "source": []
  },
  {
   "cell_type": "code",
   "execution_count": 4,
   "id": "8ac0cb18-4ad8-4ad4-b2c9-4e251f9882f9",
   "metadata": {},
   "outputs": [],
   "source": []
  },
  {
   "cell_type": "code",
   "execution_count": 22,
   "id": "5499ff3f-9890-4998-a387-f4ea71072f3f",
   "metadata": {},
   "outputs": [
    {
     "name": "stdout",
     "output_type": "stream",
     "text": [
      "\n",
      "Mini Project: Password Checker\n"
     ]
    },
    {
     "name": "stdin",
     "output_type": "stream",
     "text": [
      "Enter the password:  python123\n"
     ]
    },
    {
     "name": "stdout",
     "output_type": "stream",
     "text": [
      "Access Granted! ✅\n"
     ]
    }
   ],
   "source": [
    "# **Section 4: Mini Project: Password Checker** 🔑\n",
    "# ----------------------------------------\n",
    "\n",
    "# Let’s create a simple program to simulate a password checker.\n",
    "print(\"\\nMini Project: Password Checker\")\n",
    "\n",
    "# Predefined password\n",
    "correct_password = \"python123\"\n",
    "\n",
    "# User gets 3 attempts to enter the correct password\n",
    "attempts = 3\n",
    "\n",
    "while attempts > 0:\n",
    "    user_input = input(\"Enter the password: \")\n",
    "    if user_input == correct_password:\n",
    "        print(\"Access Granted! ✅\")\n",
    "        break\n",
    "    else:\n",
    "        attempts -= 1\n",
    "        print(f\"Wrong password. Attempts left: {attempts}\")\n",
    "else:\n",
    "    print(\"Access Denied. ❌ Too many failed attempts.\")"
   ]
  },
  {
   "cell_type": "code",
   "execution_count": null,
   "id": "84151b93-2b65-4229-908a-251072ec3427",
   "metadata": {},
   "outputs": [],
   "source": []
  },
  {
   "cell_type": "code",
   "execution_count": 15,
   "id": "74251696-24fa-4286-b57a-feedfb169e27",
   "metadata": {},
   "outputs": [],
   "source": []
  },
  {
   "cell_type": "code",
   "execution_count": null,
   "id": "a548b39f-f15e-4da9-aa59-fbf3ed4f4253",
   "metadata": {},
   "outputs": [],
   "source": []
  }
 ],
 "metadata": {
  "kernelspec": {
   "display_name": "Python [conda env:base] *",
   "language": "python",
   "name": "conda-base-py"
  },
  "language_info": {
   "codemirror_mode": {
    "name": "ipython",
    "version": 3
   },
   "file_extension": ".py",
   "mimetype": "text/x-python",
   "name": "python",
   "nbconvert_exporter": "python",
   "pygments_lexer": "ipython3",
   "version": "3.12.3"
  }
 },
 "nbformat": 4,
 "nbformat_minor": 5
}
